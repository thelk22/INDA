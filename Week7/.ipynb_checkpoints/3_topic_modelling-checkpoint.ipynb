{
 "cells": [
  {
   "cell_type": "markdown",
   "metadata": {},
   "source": [
    "# Lab 6: Topic Modelling\n",
    "\n",
    "This lab explores topic modelling with Latent Dirichlet Allocation (LDA).\n",
    "\n",
    "### Learning Outcomes\n",
    "\n",
    "* Be able to apply Latent Dirichlet Allocation (LDA) using the Gensim library\n",
    "* Know how to interpret the outputs of LDA for a specific document or topic \n",
    "* Know how to apply TF-IDF to improve the vector representations of the documents.\n",
    "\n",
    "### Outline\n",
    "\n",
    "* Implementing LDA Topic Modelling\n",
    "* TF-IDF vectors\n",
    "* Visualizing Topic Modelling Results\n",
    "* Optional: HDP model as an alternative to LDA\n",
    "\n",
    "### How To Complete This Lab\n",
    "\n",
    "Read the text and the code then look for 'TODOs' that instruct you to complete some missing code. Look out for 'QUESTIONS' which you should try to answer before moving on to the next cell. Aim to work through the lab during the scheduled lab hours. To get help, you can talk to TAs or the lecturer during the labs, post questions to Blackboard (anonymously) or on Teams in the QA channel (with your name), or ask a question in the Wednesday live sessions. \n",
    "\n",
    "As you work through the notebooks, please make a note of any code that is unclear to you.\n",
    "\n",
    "The labs *will not be marked*. However, they will prepare you for the coursework, so try to keep up with the weekly labs and have fun with the exercises! To understand what's going on inside the methods we use here, make sure to watch the lecture videos for the same week."
   ]
  },
  {
   "cell_type": "markdown",
   "metadata": {},
   "source": [
    "## Step 1: Load the Dataset"
   ]
  },
  {
   "cell_type": "markdown",
   "metadata": {},
   "source": [
    "Topic modelling is uses unsupervised learning to extract the topics (represented as a probability distribution over words) that occur in a collection of documents. Let's load some data to apply topic modelling to from the 20 newsgroups dataset:"
   ]
  },
  {
   "cell_type": "code",
   "execution_count": 1,
   "metadata": {},
   "outputs": [
    {
     "name": "stderr",
     "output_type": "stream",
     "text": [
      "Downloading 20news dataset. This may take a few minutes.\n",
      "Downloading dataset from https://ndownloader.figshare.com/files/5975967 (14 MB)\n"
     ]
    }
   ],
   "source": [
    "from sklearn.datasets import fetch_20newsgroups\n",
    "\n",
    "# We will use the 'train' split for learning the topics in an unsupervised manner:\n",
    "newsgroups_train = fetch_20newsgroups(subset='train', shuffle=True, remove=('headers', 'footers', 'quotes'))\n",
    "\n",
    "# We will apply our learned topic model to the 'test' split later on:\n",
    "newsgroups_test = fetch_20newsgroups(subset='test', shuffle=True, remove=('headers', 'footers', 'quotes'))"
   ]
  },
  {
   "cell_type": "markdown",
   "metadata": {},
   "source": [
    "Newsgroups are internet discussion groups, where users discuss a range of topics. Despite the name, the posts do not usually contain news. This dataset contains posts from 20 different newsgroups. Each newsgroup has a particular theme. We can view the list of newsgroups in the training split as follows:"
   ]
  },
  {
   "cell_type": "code",
   "execution_count": 5,
   "metadata": {},
   "outputs": [
    {
     "data": {
      "text/plain": [
       "['DESCR', 'data', 'filenames', 'target', 'target_names']"
      ]
     },
     "execution_count": 5,
     "metadata": {},
     "output_type": "execute_result"
    }
   ],
   "source": [
    "dir(newsgroups_train)"
   ]
  },
  {
   "cell_type": "code",
   "execution_count": 4,
   "metadata": {},
   "outputs": [
    {
     "name": "stdout",
     "output_type": "stream",
     "text": [
      "['alt.atheism', 'comp.graphics', 'comp.os.ms-windows.misc', 'comp.sys.ibm.pc.hardware', 'comp.sys.mac.hardware', 'comp.windows.x', 'misc.forsale', 'rec.autos', 'rec.motorcycles', 'rec.sport.baseball', 'rec.sport.hockey', 'sci.crypt', 'sci.electronics', 'sci.med', 'sci.space', 'soc.religion.christian', 'talk.politics.guns', 'talk.politics.mideast', 'talk.politics.misc', 'talk.religion.misc']\n"
     ]
    }
   ],
   "source": [
    "print(newsgroups_train.target_names)"
   ]
  },
  {
   "cell_type": "markdown",
   "metadata": {},
   "source": [
    "When working with a new dataset, it is always good to play around with the data and see what we have, and how to find everything :) \n",
    "```newsgroups_train``` is a Python dictionary. Let's look at the keys and the types of objects stored in the dictionary:"
   ]
  },
  {
   "cell_type": "code",
   "execution_count": 6,
   "metadata": {},
   "outputs": [
    {
     "name": "stdout",
     "output_type": "stream",
     "text": [
      "data <class 'list'>\n",
      "filenames <class 'numpy.ndarray'>\n",
      "target_names <class 'list'>\n",
      "target <class 'numpy.ndarray'>\n",
      "DESCR <class 'str'>\n"
     ]
    }
   ],
   "source": [
    "for i in newsgroups_train:\n",
    "    print(i, type(newsgroups_train[i]))"
   ]
  },
  {
   "cell_type": "markdown",
   "metadata": {},
   "source": [
    "The ```data``` item is a list of raw text documents. This is all we need for topic modelling, so we can ignore the ```target``` and ```DESCR``` keys for now.\n",
    "\n",
    "The code below prints out the first post in ```data```:"
   ]
  },
  {
   "cell_type": "code",
   "execution_count": 7,
   "metadata": {},
   "outputs": [
    {
     "name": "stdout",
     "output_type": "stream",
     "text": [
      "DOCUMENT 0:\n",
      "I was wondering if anyone out there could enlighten me on this car I saw\n",
      "the other day. It was a 2-door sports car, looked to be from the late 60s/\n",
      "early 70s. It was called a Bricklin. The doors were really small. In addition,\n",
      "the front bumper was separate from the rest of the body. This is \n",
      "all I know. If anyone can tellme a model name, engine specs, years\n",
      "of production, where this car is made, history, or whatever info you\n",
      "have on this funky looking car, please e-mail.\n"
     ]
    }
   ],
   "source": [
    "print('DOCUMENT 0:')\n",
    "print(newsgroups_train.data[0])"
   ]
  },
  {
   "cell_type": "markdown",
   "metadata": {},
   "source": [
    "## Step 2: Data Preprocessing"
   ]
  },
  {
   "cell_type": "markdown",
   "metadata": {},
   "source": [
    "To apply topic modelling, we need to first preprocess the data. We will carry out the following steps using the same approach as previous labs:\n",
    "* Tokenise the posts using NLTK's word_tokenize() function\n",
    "* Remove non-word tokens and tokens with length less than 3 (likely to be numbers and punctuation that are not related to specific topics) and longer than 15 (probably URLs, codes, andbadly formatted tokens rather than proper words)\n",
    "* Convert the tokens to lower case\n",
    "* Remove stopwords: we have not used this step before; it removes tokens such as 'the' and 'a' that appear in a list of very common words, because these words do not tell us much about topics\n",
    "* Lemmatize the tokens using WordNetLemmatizer to convert verbs to their root forms\n",
    "\n",
    "We're going to introduce another library, [Gensim](https://radimrehurek.com/gensim/), which contains a lot of useful tools for topic modelling, text normalisation, and vector representations of words or documents (embeddings). For preprocessing, we will use the list of stopwords provided by Gensim. For topic modelling, removing stopwords can be particularly useful to remove noise and reduce the model complexity. Run the code below to preprocess the text:"
   ]
  },
  {
   "cell_type": "code",
   "execution_count": 9,
   "metadata": {},
   "outputs": [],
   "source": [
    "from sklearn.feature_extraction.text import CountVectorizer\n",
    "from nltk.stem import WordNetLemmatizer \n",
    "from gensim.utils import simple_preprocess\n",
    "from gensim.parsing.preprocessing import STOPWORDS # find stopwords\n",
    "import numpy as np\n",
    "\n",
    "np.random.seed(400)  # We fix the random seed to ensure we get consistent results when we repeat the lab.\n",
    "\n",
    "lemmatizer = WordNetLemmatizer()\n",
    "# Tokenize and lemmatize\n",
    "def preprocess(text):\n",
    "    result=[]\n",
    "    for token in simple_preprocess(text) :  # Tokenize, remove very short and very long words, convert to lower case, remove words containing non-letter characters\n",
    "        if token not in STOPWORDS:\n",
    "            result.append(lemmatizer.lemmatize(token, 'v'))     \n",
    "    return result\n",
    "\n",
    "# Create a list of preprocessed documents\n",
    "processed = []\n",
    "for doc in newsgroups_train.data:\n",
    "    processed.append(preprocess(doc))"
   ]
  },
  {
   "cell_type": "code",
   "execution_count": 12,
   "metadata": {},
   "outputs": [
    {
     "data": {
      "text/plain": [
       "['wonder',\n",
       " 'enlighten',\n",
       " 'car',\n",
       " 'saw',\n",
       " 'day',\n",
       " 'door',\n",
       " 'sport',\n",
       " 'car',\n",
       " 'look',\n",
       " 'late']"
      ]
     },
     "execution_count": 12,
     "metadata": {},
     "output_type": "execute_result"
    }
   ],
   "source": [
    "processed[0][0:10]"
   ]
  },
  {
   "cell_type": "markdown",
   "metadata": {},
   "source": [
    "Now that we have finished the preprocessing, we need to construct the input for Gensim's topic modelling method. We do so by constructing a dictionary with word<->id mappings, then converting that into a bag of words, which will be the input to our model."
   ]
  },
  {
   "cell_type": "code",
   "execution_count": 13,
   "metadata": {},
   "outputs": [
    {
     "name": "stdout",
     "output_type": "stream",
     "text": [
      "Dictionary(66025 unique tokens: ['addition', 'body', 'bricklin', 'bumper', 'call']...)\n"
     ]
    }
   ],
   "source": [
    "from gensim.corpora import Dictionary\n",
    "\n",
    "# Create a dictionary of all the unique processed words\n",
    "# Each word will have a unique ID in the dictionary\n",
    "dictionary = Dictionary(processed) # construct word<->id mappings - it does it in alphabetical order\n",
    "print(dictionary)\n",
    "\n",
    "# Create a bag of words for each document\n",
    "# Each bag of words contains the ID of the words from the dictionary, mapped to the number of times they occur in the document\n",
    "bow_corpus = [dictionary.doc2bow(doc) for doc in processed]"
   ]
  },
  {
   "cell_type": "code",
   "execution_count": 21,
   "metadata": {},
   "outputs": [
    {
     "name": "stdout",
     "output_type": "stream",
     "text": [
      "[(0, 1), (1, 1), (2, 1), (3, 1), (4, 1)]\n",
      "['addition', 'body', 'bricklin', 'bumper', 'call']\n"
     ]
    }
   ],
   "source": [
    "# Let's have a look at the first 5 words in the bag of words for the first document\n",
    "print(bow_corpus[0][0:5])\n",
    "print([dictionary[i] for i in range(5)])"
   ]
  },
  {
   "cell_type": "markdown",
   "metadata": {},
   "source": [
    "# 3. Latent Dirichlet Allocation (LDA)\n",
    "\n",
    "Now we are ready to perform topic modelling using LDA. \n",
    "\n",
    "We are going to try 20 topics in the document corpus: the number of newsgroups is also 20, so perhaps we will find topics that correspond with the newsgroups. We will be running LDA using all CPU cores to parallelize and speed up model training.\n",
    "\n",
    "Gensim provides the ```LdaModel``` class. When we construct an ```LdaModel``` object, some of the parameters we will be tweaking are:\n",
    "   * *num_topics*, the number of requested latent topics to be extracted from the training corpus. <br>\n",
    "   * *id2word*, a mapping from word ids (integers) to words (strings). It is used to determine the vocabulary size, as well as for debugging and topic printing. <br>\n",
    "   * *workers*, the number of extra processes to use for parallelization. Uses all available cores by default. <br>\n"
   ]
  },
  {
   "cell_type": "code",
   "execution_count": 22,
   "metadata": {},
   "outputs": [],
   "source": [
    "from gensim.models import LdaModel\n",
    "\n",
    "lda_model =  LdaModel(bow_corpus, \n",
    "                      num_topics=20, \n",
    "                      id2word=dictionary,                                    \n",
    "                      passes=10,\n",
    "                    ) "
   ]
  },
  {
   "cell_type": "markdown",
   "metadata": {},
   "source": [
    "TODO 3.1: run the code below to print out the topic distributions found by LDA. Can you find any topics that relate to specific newsgroups (newsgroups_train.target_names)? Can you find any other meaningful topics?\n",
    "\n",
    "Topic 2 appears to contain many words relating to fighting, potentially in Turkey/Armenia. One of the newsrooms is 'talk.politics.guns' so it could be that this topic is strongly influenced by this newsroom. \\\n",
    "Topic 4 is clearly related to computing. \\\n",
    "Topic 5 is clearly about space, and probably correlates to the 'sci.space' room. "
   ]
  },
  {
   "cell_type": "markdown",
   "metadata": {},
   "source": [
    "TODO 3.2: What do the values beside each word mean?\n",
    "\n",
    "The values beside the word correspond to the weight of the word within that particular topic. "
   ]
  },
  {
   "cell_type": "code",
   "execution_count": 26,
   "metadata": {},
   "outputs": [
    {
     "name": "stdout",
     "output_type": "stream",
     "text": [
      "Topic: 0 \n",
      "Words: 0.647*\"ax\" + 0.048*\"max\" + 0.008*\"pl\" + 0.006*\"tm\" + 0.005*\"ei\" + 0.005*\"di\" + 0.005*\"bhj\" + 0.004*\"wm\" + 0.004*\"giz\" + 0.004*\"ey\"\n",
      "\n",
      "\n",
      "Topic: 1 \n",
      "Words: 0.036*\"edu\" + 0.021*\"com\" + 0.012*\"server\" + 0.011*\"sun\" + 0.010*\"cs\" + 0.010*\"db\" + 0.009*\"list\" + 0.009*\"available\" + 0.009*\"motif\" + 0.008*\"window\"\n",
      "\n",
      "\n",
      "Topic: 2 \n",
      "Words: 0.012*\"say\" + 0.012*\"people\" + 0.009*\"kill\" + 0.008*\"armenian\" + 0.008*\"come\" + 0.007*\"go\" + 0.007*\"armenians\" + 0.007*\"turkish\" + 0.006*\"war\" + 0.006*\"live\"\n",
      "\n",
      "\n",
      "Topic: 3 \n",
      "Words: 0.011*\"file\" + 0.010*\"drive\" + 0.010*\"windows\" + 0.010*\"use\" + 0.009*\"thank\" + 0.009*\"card\" + 0.008*\"program\" + 0.008*\"know\" + 0.008*\"work\" + 0.008*\"run\"\n",
      "\n",
      "\n",
      "Topic: 4 \n",
      "Words: 0.046*\"key\" + 0.027*\"chip\" + 0.013*\"encryption\" + 0.012*\"bite\" + 0.011*\"clipper\" + 0.010*\"use\" + 0.009*\"number\" + 0.007*\"phone\" + 0.007*\"encrypt\" + 0.006*\"know\"\n",
      "\n",
      "\n",
      "Topic: 5 \n",
      "Words: 0.035*\"file\" + 0.031*\"entry\" + 0.018*\"program\" + 0.014*\"entries\" + 0.014*\"output\" + 0.013*\"section\" + 0.012*\"rule\" + 0.010*\"build\" + 0.010*\"echo\" + 0.009*\"info\"\n",
      "\n",
      "\n",
      "Topic: 6 \n",
      "Words: 0.036*\"vs\" + 0.034*\"la\" + 0.023*\"van\" + 0.019*\"min\" + 0.018*\"det\" + 0.017*\"cal\" + 0.017*\"bos\" + 0.016*\"tor\" + 0.016*\"chi\" + 0.015*\"pit\"\n",
      "\n",
      "\n",
      "Topic: 7 \n",
      "Words: 0.034*\"space\" + 0.013*\"nasa\" + 0.012*\"launch\" + 0.009*\"earth\" + 0.009*\"satellite\" + 0.009*\"orbit\" + 0.009*\"center\" + 0.008*\"program\" + 0.007*\"moon\" + 0.007*\"research\"\n",
      "\n",
      "\n",
      "Topic: 8 \n",
      "Words: 0.020*\"image\" + 0.011*\"print\" + 0.009*\"ms\" + 0.008*\"dod\" + 0.008*\"color\" + 0.007*\"printer\" + 0.007*\"page\" + 0.006*\"gif\" + 0.006*\"font\" + 0.006*\"appear\"\n",
      "\n",
      "\n",
      "Topic: 9 \n",
      "Words: 0.020*\"cx\" + 0.015*\"c_\" + 0.013*\"hz\" + 0.010*\"qs\" + 0.010*\"lk\" + 0.009*\"ck\" + 0.008*\"ww\" + 0.008*\"mc\" + 0.008*\"mv\" + 0.007*\"md\"\n",
      "\n",
      "\n",
      "Topic: 10 \n",
      "Words: 0.029*\"game\" + 0.023*\"team\" + 0.017*\"play\" + 0.013*\"win\" + 0.012*\"year\" + 0.011*\"season\" + 0.010*\"hockey\" + 0.009*\"league\" + 0.008*\"score\" + 0.008*\"st\"\n",
      "\n",
      "\n",
      "Topic: 11 \n",
      "Words: 0.054*\"wire\" + 0.021*\"grind\" + 0.016*\"bank\" + 0.016*\"edu\" + 0.015*\"neutral\" + 0.012*\"gordon\" + 0.011*\"ground\" + 0.011*\"soon\" + 0.010*\"surrender\" + 0.010*\"skepticism\"\n",
      "\n",
      "\n",
      "Topic: 12 \n",
      "Words: 0.009*\"new\" + 0.009*\"car\" + 0.008*\"price\" + 0.008*\"sell\" + 0.008*\"buy\" + 0.007*\"drive\" + 0.007*\"power\" + 0.007*\"like\" + 0.006*\"good\" + 0.006*\"look\"\n",
      "\n",
      "\n",
      "Topic: 13 \n",
      "Words: 0.017*\"government\" + 0.013*\"right\" + 0.010*\"state\" + 0.007*\"law\" + 0.006*\"people\" + 0.005*\"israel\" + 0.005*\"public\" + 0.005*\"new\" + 0.005*\"information\" + 0.004*\"security\"\n",
      "\n",
      "\n",
      "Topic: 14 \n",
      "Words: 0.021*\"god\" + 0.010*\"people\" + 0.009*\"believe\" + 0.008*\"jesus\" + 0.007*\"think\" + 0.007*\"know\" + 0.007*\"say\" + 0.007*\"mean\" + 0.006*\"bible\" + 0.005*\"come\"\n",
      "\n",
      "\n",
      "Topic: 15 \n",
      "Words: 0.018*\"think\" + 0.015*\"like\" + 0.014*\"know\" + 0.012*\"time\" + 0.010*\"go\" + 0.009*\"people\" + 0.009*\"get\" + 0.009*\"good\" + 0.008*\"ve\" + 0.007*\"want\"\n",
      "\n",
      "\n",
      "Topic: 16 \n",
      "Words: 0.014*\"helmet\" + 0.011*\"sea\" + 0.008*\"nist\" + 0.007*\"vice\" + 0.007*\"garage\" + 0.007*\"ncsl\" + 0.006*\"edt\" + 0.005*\"sink\" + 0.005*\"humor\" + 0.005*\"oak\"\n",
      "\n",
      "\n",
      "Topic: 17 \n",
      "Words: 0.019*\"gun\" + 0.014*\"state\" + 0.014*\"mr\" + 0.010*\"president\" + 0.006*\"people\" + 0.006*\"tax\" + 0.005*\"control\" + 0.005*\"issue\" + 0.005*\"arm\" + 0.005*\"year\"\n",
      "\n",
      "\n",
      "Topic: 18 \n",
      "Words: 0.029*\"window\" + 0.016*\"ra\" + 0.014*\"msg\" + 0.008*\"food\" + 0.007*\"colormap\" + 0.007*\"create\" + 0.007*\"kent\" + 0.006*\"button\" + 0.006*\"pointer\" + 0.006*\"talent\"\n",
      "\n",
      "\n",
      "Topic: 19 \n",
      "Words: 0.014*\"use\" + 0.010*\"information\" + 0.009*\"data\" + 0.008*\"book\" + 0.008*\"public\" + 0.007*\"number\" + 0.007*\"ripem\" + 0.006*\"include\" + 0.006*\"reference\" + 0.006*\"available\"\n",
      "\n",
      "\n"
     ]
    }
   ],
   "source": [
    "'''\n",
    "For each topic, we will explore the words occuring in that topic and its relative weight\n",
    "'''\n",
    "for idx, topic in lda_model.print_topics(-1):\n",
    "    print(\"Topic: {} \\nWords: {}\".format(idx, topic ))\n",
    "    print(\"\\n\")"
   ]
  },
  {
   "cell_type": "markdown",
   "metadata": {},
   "source": [
    "## Testing on unseen data"
   ]
  },
  {
   "cell_type": "markdown",
   "metadata": {},
   "source": [
    "Now that we have a trained LDA mode, we can run it on a new, unseen document to get the breakdown of topics. Let's test the model on a document from the test set. First, get the raw document, then apply preprocessing:"
   ]
  },
  {
   "cell_type": "code",
   "execution_count": 27,
   "metadata": {},
   "outputs": [
    {
     "name": "stdout",
     "output_type": "stream",
     "text": [
      "I am a little confused on all of the models of the 88-89 bonnevilles.\n",
      "I have heard of the LE SE LSE SSE SSEI. Could someone tell me the\n",
      "differences are far as features or performance. I am also curious to\n",
      "know what the book value is for prefereably the 89 model. And how much\n",
      "less than book value can you usually get them for. In other words how\n",
      "much are they in demand this time of year. I have heard that the mid-spring\n",
      "early summer is the best time to buy.\n",
      " This document is from newsgroup rec.autos\n",
      "early: 1\n",
      "know: 1\n",
      "model: 2\n",
      "hear: 2\n",
      "summer: 1\n",
      "time: 2\n",
      "tell: 1\n",
      "value: 2\n",
      "buy: 1\n",
      "usually: 1\n",
      "year: 1\n",
      "little: 1\n",
      "feature: 1\n",
      "word: 1\n",
      "best: 1\n",
      "book: 2\n",
      "performance: 1\n",
      "mid: 1\n",
      "far: 1\n",
      "le: 1\n",
      "differences: 1\n",
      "spring: 1\n",
      "demand: 1\n",
      "se: 1\n",
      "confuse: 1\n",
      "curious: 1\n",
      "prefereably: 1\n"
     ]
    }
   ],
   "source": [
    "test_document_idx = 0\n",
    "unseen_document = newsgroups_test.data[test_document_idx]\n",
    "print(unseen_document)\n",
    "\n",
    "print(f' This document is from newsgroup {newsgroups_test.target_names[newsgroups_test.target[test_document_idx]]}')\n",
    "\n",
    "# Data preprocessing step for the unseen document - It is the same preprocessing we have performed for the training data\n",
    "bow_vector = dictionary.doc2bow(preprocess(unseen_document))\n",
    "\n",
    "for idx, count in bow_vector:\n",
    "    print(f'{dictionary[idx]}: {count}')"
   ]
  },
  {
   "cell_type": "markdown",
   "metadata": {},
   "source": [
    "Now, run our preprocessed document through the LDA model as follows to obtain $\\boldsymbol{\\theta}^d$, the topic distribution (topics with zero probability are not shown):"
   ]
  },
  {
   "cell_type": "markdown",
   "metadata": {},
   "source": [
    "We can examine the word-topic distributions for the topics associated with this document:"
   ]
  },
  {
   "cell_type": "code",
   "execution_count": 28,
   "metadata": {},
   "outputs": [
    {
     "name": "stdout",
     "output_type": "stream",
     "text": [
      "Index: 12\n",
      "Probability: 0.48364347219467163\t Topic: 0.009*\"new\" + 0.009*\"car\" + 0.008*\"price\" + 0.008*\"sell\" + 0.008*\"buy\"\n",
      "Index: 15\n",
      "Probability: 0.3053349554538727\t Topic: 0.018*\"think\" + 0.015*\"like\" + 0.014*\"know\" + 0.012*\"time\" + 0.010*\"go\"\n",
      "Index: 14\n",
      "Probability: 0.15132278203964233\t Topic: 0.021*\"god\" + 0.010*\"people\" + 0.009*\"believe\" + 0.008*\"jesus\" + 0.007*\"think\"\n",
      "Index: 9\n",
      "Probability: 0.034687407314777374\t Topic: 0.020*\"cx\" + 0.015*\"c_\" + 0.013*\"hz\" + 0.010*\"qs\" + 0.010*\"lk\"\n"
     ]
    }
   ],
   "source": [
    "topic_distribution = lda_model[bow_vector]\n",
    "\n",
    "for index, probability in sorted(topic_distribution, key=lambda tup: -1*tup[1]):\n",
    "    print(\"Index: {}\\nProbability: {}\\t Topic: {}\".format(index, probability, lda_model.print_topic(index, 5)))"
   ]
  },
  {
   "cell_type": "markdown",
   "metadata": {},
   "source": [
    "## Visualising Topics \n",
    "\n",
    "Let's compare the topics for some training set documents in the same newsgroup.\n",
    "\n",
    "TODO 3.3: Complete the code below to define a function to retrieve the topic distributions for 10 documents in the ```talk.politics.mideast``` newsgroup."
   ]
  },
  {
   "cell_type": "code",
   "execution_count": 29,
   "metadata": {},
   "outputs": [],
   "source": [
    "from gensim.matutils import any2sparse\n",
    "\n",
    "def get_document_ids_in_newsgroup(newsgroup_name, newsgroups_data):\n",
    "    # retrieve a list of document indexes for documents with this target_name\n",
    "    doc_idxs = []\n",
    "    for i, target_i in enumerate(newsgroups_data.target):\n",
    "        if newsgroups_data.target_names[target_i] == newsgroup_name:\n",
    "            doc_idxs.append(i)\n",
    "            \n",
    "    #print(\"There are {} documents in the newsgroup {}\".format(len(doc_idxs), newsgroup_name))\n",
    "            \n",
    "    return doc_idxs\n",
    "\n",
    "\n",
    "def get_topic_dists_in_newsgroup(newsgroup_name, lda_model, max_num_docs=10):\n",
    "    doc_idxs = get_document_ids_in_newsgroup(newsgroup_name, newsgroups_train)\n",
    "    \n",
    "    # only use the first ten documents.\n",
    "    if len(doc_idxs) > max_num_docs:\n",
    "        doc_idxs = doc_idxs[:max_num_docs]\n",
    "    print(doc_idxs)\n",
    "    \n",
    "    # Save each theta_d distribution to the list 'thetas':\n",
    "    thetas = []\n",
    "    \n",
    "    for doc_idx in doc_idxs:\n",
    "        ### COMPLETE THE CODE HERE\n",
    "        \n",
    "        # Get the document from newsgroups_train\n",
    "        doc = newsgroups_train.data[doc_idx]\n",
    "        \n",
    "        # Apply preprocessing to get a bag-of-words vector:\n",
    "        bow_vector = dictionary.doc2bow(preprocess(doc))\n",
    "        \n",
    "        # Use the LDA model to compute the topic distribution for this document:\n",
    "        theta_d = lda_model[bow_vector]\n",
    "        \n",
    "        #######################\n",
    "        \n",
    "        thetas.append(theta_d)\n",
    "    \n",
    "    return thetas"
   ]
  },
  {
   "cell_type": "markdown",
   "metadata": {},
   "source": [
    "Run the function above and print out the topic distributions:"
   ]
  },
  {
   "cell_type": "code",
   "execution_count": 30,
   "metadata": {},
   "outputs": [
    {
     "name": "stdout",
     "output_type": "stream",
     "text": [
      "[33, 54, 70, 91, 104, 133, 152, 160, 202, 219]\n",
      "[[(2, 0.6436449), (7, 0.33184528), (15, 0.015139719)], [(2, 0.6020902), (5, 0.025425449), (8, 0.01625399), (13, 0.13333721), (14, 0.05566316), (15, 0.034028303), (17, 0.07159786), (19, 0.058331445)], [(2, 0.7734782), (8, 0.016268073), (13, 0.12730773), (14, 0.036897305), (17, 0.028794872)], [(2, 0.4101803), (8, 0.026231345), (9, 0.064302936), (13, 0.288176), (14, 0.20253487)], [(11, 0.018937834), (13, 0.109754175), (14, 0.3626881), (15, 0.28578758), (16, 0.2084002)], [(2, 0.79514784), (4, 0.036443654), (13, 0.14966013)], [(2, 0.09946649), (4, 0.022051364), (5, 0.018008543), (7, 0.018885994), (12, 0.12626295), (13, 0.3842734), (15, 0.2080588), (16, 0.015143123), (17, 0.09985672)], [(2, 0.86778563), (12, 0.09620723)], [(8, 0.09385221), (9, 0.04669646), (12, 0.05707927), (13, 0.22922489), (14, 0.23187077), (15, 0.3093466)], [(13, 0.3417919), (14, 0.20017968), (15, 0.20237331), (16, 0.09475318), (17, 0.14001468)]]\n"
     ]
    }
   ],
   "source": [
    "thetas = get_topic_dists_in_newsgroup('talk.politics.mideast', lda_model, max_num_docs=10)\n",
    "print(thetas)"
   ]
  },
  {
   "cell_type": "markdown",
   "metadata": {},
   "source": [
    "The text output is quite hard to read. We can improve on it by making a bar chart with a distinct colour for each topic. The function below can be used to plot a simple bar chart using the ```matplotlib``` library. This will help us see which documents discuss the same topics. The height of each bar is the probability for that topic within the document, according to our model."
   ]
  },
  {
   "cell_type": "code",
   "execution_count": 31,
   "metadata": {},
   "outputs": [],
   "source": [
    "import matplotlib.pyplot as plt\n",
    "import numpy as np\n",
    "\n",
    "# choose some colours for the topics\n",
    "colours = ['blue', 'green', 'red', 'cyan', 'magenta', 'yellow', 'black', 'teal', 'pink', 'purple',\n",
    "           'orange', 'gray', 'lime', 'darkgreen', 'lightgray', 'navy', 'gold', 'crimson', 'darkgray', 'fuchsia']\n",
    "\n",
    "def convert_theta_sparse_to_dense(theta_d_sparse, num_topics):\n",
    "    theta_d = np.zeros(num_topics)  # an empty array\n",
    "    \n",
    "    # split the output from lda_model into two lists\n",
    "    active_topics_in_d, probs = map(list, zip(*theta_d_sparse))\n",
    "    \n",
    "    # record the values in theta_d\n",
    "    for i, topic in enumerate(active_topics_in_d):\n",
    "        if topic >= num_topics:\n",
    "            break\n",
    "            \n",
    "        theta_d[topic] = probs[i]\n",
    "    \n",
    "    return theta_d\n",
    "\n",
    "# a function for producing a bar chart for a document\n",
    "def plot_theta(thetas, d, num_docs, num_topics):\n",
    "    plt.subplot(int(num_docs/3) + 1, 3, d+1)   # make a set of subplots inside a figure, with four subplots per row\n",
    "    \n",
    "    theta_d = convert_theta_sparse_to_dense(thetas[d], num_topics)\n",
    "    \n",
    "    # plot the results so that the same topics always occur at the same place along the x axis.\n",
    "    plt.bar(x=np.arange(len(theta_d)), height=theta_d, color=colours, tick_label=np.arange(num_topics))"
   ]
  },
  {
   "cell_type": "markdown",
   "metadata": {},
   "source": [
    "TODO 3.4: use the function to plot the topic distributions of the 10 documents we selected from the ```talk.politics.mideast``` newsgroup. What do you notice? Are there any topics the documents have in common? Any they do not? Refer back to the printed list of topics above to find the most common topic in this newsgroup."
   ]
  },
  {
   "cell_type": "code",
   "execution_count": 48,
   "metadata": {},
   "outputs": [
    {
     "data": {
      "image/png": "[encoded data removed]",
      "text/plain": [
       "<Figure size 1440x576 with 10 Axes>"
      ]
     },
     "metadata": {
      "needs_background": "light"
     },
     "output_type": "display_data"
    }
   ],
   "source": [
    "plt.figure(figsize=(20,8))\n",
    "\n",
    "### WRITE YOUR OWN CODE HERE\n",
    "\n",
    "for i in range(10): \n",
    "    plot_theta(thetas, i, 10, 10)\n",
    "    \n",
    "############################\n",
    "\n",
    "plt.show()"
   ]
  },
  {
   "cell_type": "markdown",
   "metadata": {},
   "source": [
    "A lot of the documents have topic 2 in common. "
   ]
  },
  {
   "cell_type": "markdown",
   "metadata": {},
   "source": [
    "Now, let's look at how the topics we've found with LDA relate to the newsgroups (the targets in the training set).\n",
    "\n",
    "The code below iterates over the newsgroups, computing the topic distribution for each document in that particular newsgroup. \n",
    "\n",
    "TODO 3.5: Complete the function below to compute the mean topic distribution, $\\boldsymbol\\theta$, for each newsgroup. Hint: use the ```mean``` function from Numpy. "
   ]
  },
  {
   "cell_type": "code",
   "execution_count": 54,
   "metadata": {},
   "outputs": [],
   "source": [
    "# Create a numpy array which will store a matrix of values. Rows correspond to newsgroups and columns to LDA topics.\n",
    "def get_newsgroups_mean_topics(lda_model, num_topics):\n",
    "    \n",
    "    # Create a matrix where each row corresponds to a newsgroup, and each column to a topic.\n",
    "    # In each entry, we will save the mean probability of the topic for the documents in that newsgroup.\n",
    "    mean_thetas = np.zeros((len(newsgroups_train.target_names), num_topics))\n",
    "\n",
    "    print(mean_thetas.shape)\n",
    "    for t, target_name in enumerate(newsgroups_train.target_names):\n",
    "        # Obtain the thetas for the documents with this target name\n",
    "        thetas_t_sparse = get_topic_dists_in_newsgroup(target_name, lda_model, max_num_docs=10)\n",
    "        print(np.array(thetas_t_sparse))\n",
    "        \n",
    "        # convert the thetas to a dense vector format\n",
    "        thetas_t = []\n",
    "        for theta_d_t_sparse in thetas_t_sparse:\n",
    "            if not theta_d_t_sparse:\n",
    "                continue  # if it's empty\n",
    "            thetas_d = convert_theta_sparse_to_dense(theta_d_t_sparse, num_topics)\n",
    "            thetas_t.append(thetas_d)\n",
    "            \n",
    "        # compute the mean theta for this newsgroup and store it in mean_thetas \n",
    "        ### WRITE YOUR OWN CODE HERE\n",
    "        \n",
    "        mean_thetas[t] = np.mean(thetas_t)\n",
    "        print(mean_thetas[t])\n",
    "        \n",
    "        ###########################\n",
    "\n",
    "        #print(mean_thetas[t])\n",
    "    return mean_thetas"
   ]
  },
  {
   "cell_type": "markdown",
   "metadata": {},
   "source": [
    "We can now plot a matrix ```mean_thetas``` using ```matplotlib``` using the code below.\n",
    "\n",
    "TODO 3.6: which LDA topics are common across many newsgroups? Are there any topics that are specific to particular newsgroups? "
   ]
  },
  {
   "cell_type": "code",
   "execution_count": 61,
   "metadata": {},
   "outputs": [
    {
     "data": {
      "image/png": "[encoded data removed]",
      "text/plain": [
       "<Figure size 1440x720 with 1 Axes>"
      ]
     },
     "metadata": {
      "needs_background": "light"
     },
     "output_type": "display_data"
    }
   ],
   "source": [
    "from IPython.display import clear_output\n",
    "\n",
    "def plot_newsgroup_topic_matrix(model, num_topics):\n",
    "    # Run the function we defined above to get the mean topic distributions:\n",
    "    mean_thetas = get_newsgroups_mean_topics(model, num_topics)\n",
    "    \n",
    "    print(f'mean_thetas is a matrix of shape {mean_thetas.shape}')\n",
    "\n",
    "    # Create a new figure\n",
    "    plt.figure(figsize=(20,10))\n",
    "    clear_output()\n",
    "\n",
    "    # Plot the matrix as a 2-D grid, where colours represent the values.\n",
    "    plt.imshow(mean_thetas)\n",
    "\n",
    "    # Change the labels on the axes\n",
    "    plt.yticks(range(len(newsgroups_train.target_names)), newsgroups_train.target_names )\n",
    "    plt.xticks(range(num_topics))\n",
    "\n",
    "    plt.show()\n",
    "    \n",
    "num_topics = 10\n",
    "plot_newsgroup_topic_matrix(lda_model, num_topics)"
   ]
  },
  {
   "cell_type": "markdown",
   "metadata": {
    "tags": []
   },
   "source": [
    "# 4. Cosine Similarity and TF-IDF"
   ]
  },
  {
   "cell_type": "markdown",
   "metadata": {},
   "source": [
    "For many tasks it is useful to compute similarity between documents, for example, if we want cluster documents into groups or to retrieve some documents that are similar to the one we are currently reading. In order to compute similarity or distance, we need to represent documents as numerical vectors. The code we have run so far produces bag-of-words vectors for each document, where each entry in vector is the count of word in the vocabulary.\n",
    "\n",
    "Let's take a document from the 'rec.autos' newsgroup as a 'query' document and compare it to two others using cosine similarity. We'll take another one from 'rec.autos' and one from 'misc.forsale'. First let's show the documents and their bag of words vectors:"
   ]
  },
  {
   "cell_type": "code",
   "execution_count": 62,
   "metadata": {},
   "outputs": [
    {
     "name": "stdout",
     "output_type": "stream",
     "text": [
      "From article <1993Apr5.200048.23421@ucsu.Colorado.EDU>, by lorenzo@rintintin.Colorado.EDU (Eric Lorenzo):\n",
      "\n",
      "--Let me put it like this.  The only similarity between the three models\n",
      "  is the \"300\", or 3-liter engine displacement.  Actually, the SC300 (the\n",
      "  coupe) and the GS300 (the funky-looking new sedan) share the same 3.0\n",
      "  liter inline-six, and the ES300 (popular small sedan) uses 3.0 V6 shared\n",
      "  with the Camry.  The SC300 is a luxury/sports coupe, the GS300 is the new\n",
      "  luxury sedan, and the ES300 is the base executive sedan.  All three look\n",
      "  completely different.\n",
      "\n",
      "--Aamir Qazi\n",
      "--\n",
      "engine: 1\n",
      "funky: 1\n",
      "look: 2\n",
      "model: 1\n",
      "small: 1\n",
      "sport: 1\n",
      "base: 1\n",
      "share: 2\n",
      "actually: 1\n",
      "edu: 2\n",
      "like: 1\n",
      "new: 2\n",
      "use: 1\n",
      "article: 1\n",
      "different: 1\n",
      "let: 1\n",
      "luxury: 2\n",
      "sc: 2\n",
      "apr: 1\n",
      "completely: 1\n",
      "inline: 1\n",
      "eric: 1\n",
      "executive: 1\n",
      "colorado: 2\n",
      "es: 2\n",
      "gs: 2\n",
      "popular: 1\n",
      "sedan: 4\n",
      "aamir: 1\n",
      "camry: 1\n",
      "coupe: 2\n",
      "displacement: 1\n",
      "liter: 2\n",
      "lorenzo: 2\n",
      "qazi: 1\n",
      "rintintin: 1\n",
      "similarity: 1\n",
      "ucsu: 1\n"
     ]
    }
   ],
   "source": [
    "# get our first document\n",
    "doc_idxs = get_document_ids_in_newsgroup('rec.autos', newsgroups_train)\n",
    "doc_idx_0 = doc_idxs[19]\n",
    "print(newsgroups_train.data[doc_idx_0].strip())\n",
    "query_doc = bow_corpus[doc_idx_0]\n",
    "# show the bag of words vector in sparse format. In each pair of numbers, the first is the word ID and the second is the word count.\n",
    "for idx, count in query_doc:\n",
    "    print(f'{dictionary[idx]}: {count}')"
   ]
  },
  {
   "cell_type": "code",
   "execution_count": 63,
   "metadata": {},
   "outputs": [
    {
     "name": "stdout",
     "output_type": "stream",
     "text": [
      "Bzzt.\n",
      "The manta was a two-door sedan in the US.\n",
      "It had a 1900 engine.\n",
      "Was sometimes referred to as an Opel 1900.\n",
      "Manta's are also ve hot and fun cars too.\n",
      "door: 1\n",
      "engine: 1\n",
      "ve: 1\n",
      "cars: 1\n",
      "hot: 1\n",
      "refer: 1\n",
      "fun: 1\n",
      "bzzt: 1\n",
      "manta: 2\n",
      "opel: 1\n",
      "sedan: 1\n"
     ]
    }
   ],
   "source": [
    "# get a comparison document from the same newsgroup\n",
    "doc_idx_1 = doc_idxs[17]\n",
    "comparison_doc_1 = bow_corpus[doc_idx_1]\n",
    "print(newsgroups_train.data[doc_idx_1].strip())\n",
    "# show the bag of words vector in sparse format. In each pair of numbers, the first is the word ID and the second is the word count.\n",
    "for idx, count in comparison_doc_1:\n",
    "    print(f'{dictionary[idx]}: {count}')"
   ]
  },
  {
   "cell_type": "code",
   "execution_count": 64,
   "metadata": {},
   "outputs": [
    {
     "name": "stdout",
     "output_type": "stream",
     "text": [
      "The front covers should be available from Sony.  Check with a local car\n",
      "stereo shop.  You will probably (definitely) have to provide the units \n",
      "serial number and hopefully you had registered the warranty card.  I \n",
      "don't know the cost, but replacements have to be available to people\n",
      "who damage the face cover, so it stands to reason that it can be replaced.\n",
      "\n",
      "As to deterring theft:\n",
      "\n",
      "When I worked for a stereo shop, we referred the customer to a Sony 800\n",
      "number.  We would not sell the face, nor did we have them available.  Most\n",
      "people who came in asking for the face cover (or a pullout sleave for that\n",
      "matter) would look very disheartened to find that they acquired a deck\n",
      "they couldn't use.  If theft occurs with these decks, notify Sony.  Serial\n",
      "numbers do catch theives.\n",
      "car: 1\n",
      "know: 1\n",
      "look: 1\n",
      "card: 1\n",
      "number: 3\n",
      "hopefully: 1\n",
      "people: 2\n",
      "probably: 1\n",
      "use: 1\n",
      "check: 1\n",
      "couldn: 1\n",
      "available: 3\n",
      "work: 1\n",
      "sell: 1\n",
      "shop: 2\n",
      "come: 1\n",
      "cost: 1\n",
      "occur: 1\n",
      "provide: 1\n",
      "ask: 1\n",
      "deck: 2\n",
      "reason: 1\n",
      "cover: 3\n",
      "theft: 2\n",
      "matter: 1\n",
      "definitely: 1\n",
      "acquire: 1\n",
      "catch: 1\n",
      "customer: 1\n",
      "damage: 1\n",
      "deter: 1\n",
      "dishearten: 1\n",
      "face: 3\n",
      "local: 1\n",
      "notify: 1\n",
      "pullout: 1\n",
      "refer: 1\n",
      "register: 1\n",
      "replace: 1\n",
      "replacements: 1\n",
      "serial: 2\n",
      "sleave: 1\n",
      "sony: 3\n",
      "stand: 1\n",
      "stereo: 2\n",
      "theives: 1\n",
      "units: 1\n",
      "warranty: 1\n"
     ]
    }
   ],
   "source": [
    "# get another comparison document from another newsgroup\n",
    "doc_idxs = get_document_ids_in_newsgroup('misc.forsale', newsgroups_train)\n",
    "doc_idx_2 = doc_idxs[2]\n",
    "comparison_doc_2 = bow_corpus[doc_idx_2]\n",
    "print(newsgroups_train.data[doc_idx_2].strip())\n",
    "\n",
    "# show the bag of words vector in sparse format. In each pair of numbers, the first is the word ID and the second is the word count.\n",
    "for idx, count in comparison_doc_2:\n",
    "    print(f'{dictionary[idx]}: {count}')"
   ]
  },
  {
   "cell_type": "markdown",
   "metadata": {},
   "source": [
    "To compute the similarity between the documents, we use cosine similarity:\n",
    "\n",
    "$$similarity<v_1, v_2> = \\frac{v_1 \\cdot v_2}{|| v_1 || \\cdot || v_2 ||}$$\n",
    "\n",
    "\n",
    "TODO 4.1: Which document do you expect to have higher similarity to the query? Run the code below and see if it meets your expectations."
   ]
  },
  {
   "cell_type": "code",
   "execution_count": 65,
   "metadata": {},
   "outputs": [
    {
     "name": "stdout",
     "output_type": "stream",
     "text": [
      "The cosine similarity between documents 463 and 445 is: 0.1416481749175184\n",
      "The cosine similarity between documents 463 and 30 is: 0.030886828649365476\n"
     ]
    }
   ],
   "source": [
    "from gensim.matutils import cossim\n",
    "\n",
    "cos_sim1 = cossim(query_doc, comparison_doc_1)\n",
    "print(f'The cosine similarity between documents {doc_idx_0} and {doc_idx_1} is: {cos_sim1}')\n",
    "\n",
    "cos_sim2 = cossim(query_doc, comparison_doc_2)\n",
    "print(f'The cosine similarity between documents {doc_idx_0} and {doc_idx_2} is: {cos_sim2}')"
   ]
  },
  {
   "cell_type": "markdown",
   "metadata": {},
   "source": [
    "The first and last documents share some common words, despite discussing different topics. We can alter our vector representations to focus more on keywords by using TF-IDF instead of bag of words."
   ]
  },
  {
   "cell_type": "markdown",
   "metadata": {},
   "source": [
    "TF-IDF is computed from two terms. First, the log of the term frequency:\n",
    "$$ tf(t,d) = count(t,d)$$\n",
    "\n",
    "We multiple the log term frequency by the inverse document frequencey, which is computed like this:\n",
    "\n",
    "$$ idf(t) = \\log_{2}\\frac{N}{df(t)}$$\n",
    "\n",
    "Gensim provides the TfidfModel class to compute TF-IDF vectors from our existing corpus object:"
   ]
  },
  {
   "cell_type": "code",
   "execution_count": 66,
   "metadata": {},
   "outputs": [],
   "source": [
    "from gensim.models import TfidfModel\n",
    "\n",
    "tfidf_model = TfidfModel(bow_corpus)"
   ]
  },
  {
   "cell_type": "markdown",
   "metadata": {},
   "source": [
    "TODO 4.2: Apply the tfidf_model to `query_doc`, `comparison_doc_1` and `comparison_doc_2` to obtain a TF-IDF vector for each document. Print the results. Hint: you can apply the model in the same was a you applied lda_model to a bow_vector for an unseen test document."
   ]
  },
  {
   "cell_type": "code",
   "execution_count": 69,
   "metadata": {},
   "outputs": [
    {
     "name": "stdout",
     "output_type": "stream",
     "text": [
      "The TF-IDF vector for the query doc is: \n",
      "engine: 0.08080053517210412\n",
      "funky: 0.13964321571763197\n",
      "look: 0.07308708158574487\n",
      "model: 0.06561525420274841\n",
      "small: 0.05995207741528221\n",
      "sport: 0.083126544585797\n",
      "base: 0.051602393440981144\n",
      "share: 0.14237756160123438\n",
      "actually: 0.05197807946943947\n",
      "edu: 0.0905859614876229\n",
      "like: 0.027284379975614222\n",
      "new: 0.07767016481120734\n",
      "use: 0.033994764049569255\n",
      "article: 0.05775276235158468\n",
      "different: 0.05286654107735494\n",
      "let: 0.04666511349048709\n",
      "luxury: 0.24535560099580858\n",
      "sc: 0.20228338436178492\n",
      "apr: 0.07606184710096922\n",
      "completely: 0.07253738709047512\n",
      "inline: 0.134316690368594\n",
      "eric: 0.09078022733619136\n",
      "executive: 0.10406024237029715\n",
      "colorado: 0.17779137655976476\n",
      "es: 0.2184736905773415\n",
      "gs: 0.21293643505986085\n",
      "popular: 0.08448746611867301\n",
      "sedan: 0.501309433082274\n",
      "aamir: 0.14715053154750715\n",
      "camry: 0.13018511632777952\n",
      "coupe: 0.2735781334056121\n",
      "displacement: 0.1430189575066927\n",
      "liter: 0.2536187490774376\n",
      "lorenzo: 0.30495411379309023\n",
      "qazi: 0.14715053154750715\n",
      "rintintin: 0.15247705689654512\n",
      "similarity: 0.1253273582705685\n",
      "ucsu: 0.13964321571763197\n",
      "The TF-IDF vector for the first comparison doc is: \n",
      "door: 0.19845666725741914\n",
      "engine: 0.19014791136945342\n",
      "ve: 0.09743799878678223\n",
      "cars: 0.18115739905860273\n",
      "hot: 0.1920023232724704\n",
      "refer: 0.16825478691318932\n",
      "fun: 0.2003270017270296\n",
      "bzzt: 0.3588242805432443\n",
      "manta: 0.6731330677008447\n",
      "opel: 0.3286224001990145\n",
      "sedan: 0.29493289075178314\n",
      "The TF-IDF vector for second comparison doc is: \n",
      "car: 0.07416081835397145\n",
      "know: 0.031515735754678136\n",
      "look: 0.043694552466504576\n",
      "card: 0.06801616260241304\n",
      "number: 0.17083537714410363\n",
      "hopefully: 0.10751464592905377\n",
      "people: 0.08073309973088386\n",
      "probably: 0.058759896536722304\n",
      "use: 0.04064701912081989\n",
      "check: 0.0696373097659899\n",
      "couldn: 0.08530305864569727\n",
      "available: 0.19707627591077612\n",
      "work: 0.04273006027155491\n",
      "sell: 0.06730933407461046\n",
      "shop: 0.21306110262473843\n",
      "come: 0.045422025313159045\n",
      "cost: 0.07223916593608821\n",
      "occur: 0.08484657889410697\n",
      "provide: 0.06698435967272652\n",
      "ask: 0.05686838912625809\n",
      "deck: 0.26122564831879774\n",
      "reason: 0.060797725599772506\n",
      "cover: 0.23805975371707644\n",
      "theft: 0.27846996702259624\n",
      "matter: 0.07198498996838885\n",
      "definitely: 0.10217568368916742\n",
      "acquire: 0.1163655977379345\n",
      "catch: 0.09455791645569589\n",
      "customer: 0.127302418319139\n",
      "damage: 0.09630660010429729\n",
      "deter: 0.14145067951723603\n",
      "dishearten: 0.17594563859095594\n",
      "face: 0.24882864232339186\n",
      "local: 0.07344749695239142\n",
      "notify: 0.13627880096553768\n",
      "pullout: 0.17594563859095594\n",
      "refer: 0.0854883190037923\n",
      "register: 0.1027767654153394\n",
      "replace: 0.08484657889410697\n",
      "replacements: 0.15355032839758315\n",
      "serial: 0.19025120197060877\n",
      "sleave: 0.2066360935699755\n",
      "sony: 0.350232127711554\n",
      "stand: 0.07838755680370249\n",
      "stereo: 0.22912945726583359\n",
      "theives: 0.19129086608046572\n",
      "units: 0.11226682501821865\n",
      "warranty: 0.11873985115288692\n"
     ]
    }
   ],
   "source": [
    "#### WRITE YOUR OWN CODE HERE\n",
    "\n",
    "query_tfidf_vec = tfidf_model[query_doc]\n",
    "print(f'The TF-IDF vector for the query doc is: ')\n",
    "for idx, prob in query_tfidf_vec:\n",
    "    print(f'{dictionary[idx]}: {prob}')\n",
    "comp_1_tfidf_vec = tfidf_model[comparison_doc_1]\n",
    "print(f'The TF-IDF vector for the first comparison doc is: ')\n",
    "for idx, prob in comp_1_tfidf_vec:\n",
    "    print(f'{dictionary[idx]}: {prob}')\n",
    "comp_2_tfidf_vec = tfidf_model[comparison_doc_2]\n",
    "print(f'The TF-IDF vector for second comparison doc is: ')\n",
    "for idx, prob in comp_2_tfidf_vec:\n",
    "    print(f'{dictionary[idx]}: {prob}')\n",
    "\n",
    "\n",
    "\n",
    "#####"
   ]
  },
  {
   "cell_type": "markdown",
   "metadata": {},
   "source": [
    "TODO 4.3: Compute the cosine similarity between the query document and the two comparison documents using the TF-IDF vectors. What do you notice about the results?"
   ]
  },
  {
   "cell_type": "code",
   "execution_count": 71,
   "metadata": {},
   "outputs": [
    {
     "name": "stdout",
     "output_type": "stream",
     "text": [
      "The cosine similarity for comparison document 1 is: 0.16321669326060234\n",
      "The cosine similarity for comparison document 2 is: 0.004575293145302632\n"
     ]
    }
   ],
   "source": [
    "### WRITE YOUR OWN CODE HERE\n",
    "\n",
    "cos_sim1 = cossim(query_tfidf_vec, comp_1_tfidf_vec)\n",
    "print(f'The cosine similarity for comparison document 1 is: {cos_sim1}')\n",
    "\n",
    "cos_sim2 = cossim(query_tfidf_vec, comp_2_tfidf_vec)\n",
    "print(f'The cosine similarity for comparison document 2 is: {cos_sim2}')\n",
    "\n",
    "\n",
    "######"
   ]
  },
  {
   "cell_type": "markdown",
   "metadata": {},
   "source": [
    "Clearly, with TF-IDF we can see that document 1 is more closely correlated with the query document than document 2 is. "
   ]
  },
  {
   "cell_type": "markdown",
   "metadata": {},
   "source": [
    "# 5. Optional: Hierarchical Dirichlet Process (HDP)\n",
    "\n",
    "This section is optional if you want to learn more about HDP as an alternative to LDA. \n",
    "\n",
    "There is an implementation of the [HDP model provided by gensim](https://radimrehurek.com/gensim/models/hdpmodel.html). Instead of passing in a fixed number of topics, HDP will try to learn a good number of topics to fit the data.\n",
    "\n",
    "OPTIONAL TODO 5.1: Refer to the documentation for HDP and train an HDP model. Hint: reuse the ```bow_corpus``` and ```dictionary``` as arguments in the same way that you did to construct the ```LdaModel``` object.\n",
    "\n",
    "Use the trained HDP model to obtain mean topic distributions for each newsgroup in the test set with ```get_newsgroups_mean_topics()```. Plot the mean topic matrix as above and compare it to the results from LDA. Set alpha and gamma to 0.01."
   ]
  },
  {
   "cell_type": "code",
   "execution_count": 82,
   "metadata": {},
   "outputs": [
    {
     "name": "stdout",
     "output_type": "stream",
     "text": [
      "Topic: 0 \n",
      "Words: 0.004*use + 0.004*know + 0.004*like + 0.004*edu + 0.004*file + 0.003*people + 0.003*think + 0.003*work + 0.003*time + 0.003*new\n",
      "\n",
      "\n",
      "Topic: 1 \n",
      "Words: 0.006*people + 0.005*know + 0.005*think + 0.004*say + 0.004*time + 0.004*like + 0.003*go + 0.003*come + 0.003*right + 0.003*good\n",
      "\n",
      "\n",
      "Topic: 2 \n",
      "Words: 0.614*ax + 0.044*max + 0.007*pl + 0.005*di + 0.005*tm + 0.005*ei + 0.004*giz + 0.004*bhj + 0.004*wm + 0.003*ey\n",
      "\n",
      "\n",
      "Topic: 3 \n",
      "Words: 0.007*cx + 0.006*hz + 0.005*ww + 0.005*qs + 0.005*uw + 0.005*ck + 0.005*pl + 0.004*c_ + 0.004*lk + 0.004*mv\n",
      "\n",
      "\n",
      "Topic: 4 \n",
      "Words: 0.005*like + 0.005*know + 0.004*drive + 0.004*use + 0.004*think + 0.004*work + 0.004*thank + 0.003*time + 0.003*get + 0.003*scsi\n",
      "\n",
      "\n",
      "Topic: 5 \n",
      "Words: 0.003*know + 0.003*argument + 0.003*true + 0.002*fallacy + 0.002*example + 0.002*think + 0.002*god + 0.002*conclusion + 0.002*way + 0.002*truth\n",
      "\n",
      "\n",
      "Topic: 6 \n",
      "Words: 0.003*health + 0.003*tobacco + 0.003*use + 0.002*state + 0.002*smokeless + 0.002*years + 0.002*time + 0.002*report + 0.002*know + 0.002*like\n",
      "\n",
      "\n",
      "Topic: 7 \n",
      "Words: 0.001*shuttle + 0.001*know + 0.001*program + 0.001*line + 0.001*thank + 0.001*like + 0.001*space + 0.001*problem + 0.001*run + 0.001*use\n",
      "\n",
      "\n",
      "Topic: 8 \n",
      "Words: 0.003*windows + 0.002*program + 0.001*file + 0.001*probe + 0.001*thank + 0.001*space + 0.001*nt + 0.001*launch + 0.001*use + 0.001*run\n",
      "\n",
      "\n",
      "Topic: 9 \n",
      "Words: 0.002*astronaut + 0.002*nasa + 0.002*space + 0.001*pilot + 0.001*program + 0.001*stauber + 0.001*lead + 0.001*candidates + 0.001*mission + 0.001*military\n",
      "\n",
      "\n",
      "Topic: 10 \n",
      "Words: 0.002*edu + 0.001*like + 0.001*post + 0.001*warrant + 0.001*dean + 0.001*corn + 0.001*flight + 0.001*message + 0.001*power + 0.001*option\n",
      "\n",
      "\n",
      "Topic: 11 \n",
      "Words: 0.002*weaver + 0.001*sin + 0.001*like + 0.001*need + 0.001*aid + 0.001*day + 0.001*god + 0.001*think + 0.001*say + 0.001*come\n",
      "\n",
      "\n",
      "Topic: 12 \n",
      "Words: 0.001*use + 0.001*people + 0.001*meg + 0.001*edu + 0.001*like + 0.001*time + 0.001*answer + 0.001*bear + 0.001*memory + 0.001*know\n",
      "\n",
      "\n",
      "Topic: 13 \n",
      "Words: 0.004*period + 0.004*pp + 0.003*play + 0.003*power + 0.003*scorer + 0.003*pts + 0.002*detroit + 0.001*second + 0.001*vancouver + 0.001*winnipeg\n",
      "\n",
      "\n",
      "Topic: 14 \n",
      "Words: 0.002*ff + 0.001*tower + 0.001*drive + 0.001*assembly + 0.001*machine + 0.001*power + 0.001*motorola + 0.001*supply + 0.001*feel + 0.001*look\n",
      "\n",
      "\n",
      "Topic: 15 \n",
      "Words: 0.004*father + 0.003*son + 0.003*spirit + 0.002*holy + 0.002*proceed + 0.002*creed + 0.001*st + 0.001*god + 0.001*jesus + 0.001*human\n",
      "\n",
      "\n",
      "Topic: 16 \n",
      "Words: 0.002*church + 0.002*mydisplay + 0.002*draw + 0.001*line + 0.001*palette_colors + 0.001*gc + 0.001*believe + 0.001*drawindex + 0.001*coptic + 0.001*council\n",
      "\n",
      "\n",
      "Topic: 17 \n",
      "Words: 0.004*good + 0.003*excellent + 0.002*miss + 0.002*tn + 0.002*geoffrey + 0.002*uccxkvb + 0.001*module + 0.001*fair + 0.001*cover + 0.001*vg\n",
      "\n",
      "\n",
      "Topic: 18 \n",
      "Words: 0.001*know + 0.001*security + 0.001*think + 0.001*mail + 0.001*come + 0.001*go + 0.001*people + 0.001*get + 0.001*director + 0.001*read\n",
      "\n",
      "\n",
      "Topic: 19 \n",
      "Words: 0.002*period + 0.001*pp + 0.001*lemieux + 0.001*power + 0.001*njd + 0.001*pittsburgh + 0.001*play + 0.001*score + 0.001*pgh + 0.001*rough\n",
      "\n",
      "\n"
     ]
    }
   ],
   "source": [
    "from gensim.models import HdpModel\n",
    "\n",
    "### WRITE YOUR OWN CODE HERE\n",
    "\n",
    "hdp_model = HdpModel(bow_corpus, dictionary)\n",
    "\n",
    "###\n",
    "\n",
    "# print the word-topic distributions for \n",
    "for idx, topic in hdp_model.print_topics(20):\n",
    "    print(\"Topic: {} \\nWords: {}\".format(idx, topic ))\n",
    "    print(\"\\n\")"
   ]
  },
  {
   "cell_type": "markdown",
   "metadata": {},
   "source": [
    "The previous cell shows the first 20 topics. HDP learns the number of topics that are needed to model the dataset. It produces a global distribution over the topics. Topics with very low probability can be considered inactive:"
   ]
  },
  {
   "cell_type": "code",
   "execution_count": 83,
   "metadata": {},
   "outputs": [
    {
     "data": {
      "image/png": "[encoded data removed]",
      "text/plain": [
       "<Figure size 432x288 with 1 Axes>"
      ]
     },
     "metadata": {
      "needs_background": "light"
     },
     "output_type": "display_data"
    }
   ],
   "source": [
    "def plot_global_topic_weights(hdp_model):\n",
    "    global_topic_weights = hdp_model.m_varphi_ss / np.sum(hdp_model.m_varphi_ss)\n",
    "\n",
    "    plt.bar(np.arange(len(global_topic_weights)), global_topic_weights)\n",
    "    plt.ylabel('Probability')\n",
    "    plt.xlabel('Topic ID')\n",
    "    \n",
    "plot_global_topic_weights(hdp_model)"
   ]
  },
  {
   "cell_type": "markdown",
   "metadata": {},
   "source": [
    "Run the code below to visualise the topics that HDP finds for each newsgroup:"
   ]
  },
  {
   "cell_type": "code",
   "execution_count": 84,
   "metadata": {},
   "outputs": [
    {
     "data": {
      "image/png": "[encoded data removed]",
      "text/plain": [
       "<Figure size 1440x720 with 1 Axes>"
      ]
     },
     "metadata": {
      "needs_background": "light"
     },
     "output_type": "display_data"
    }
   ],
   "source": [
    "plot_newsgroup_topic_matrix(hdp_model, 20)"
   ]
  },
  {
   "cell_type": "markdown",
   "metadata": {},
   "source": [
    "The alpha and gamma arguments to HdpModel control the 'concentration' of topics. Varying these parameters therefore affects the number of topics that HDP finds -- whether it tends towards many fine-grained topics, or few coarse-grained topics.\n",
    "\n",
    "OPTIONAL TODO 5.2: Change the values of alpha and gamma for the HDP model and see what their effect is. Hint: to see noticable differences, change the values by a factor of 10. "
   ]
  },
  {
   "cell_type": "code",
   "execution_count": 87,
   "metadata": {},
   "outputs": [],
   "source": [
    "### WRITE YOUR OWN CODE HERE\n",
    "\n",
    "hdp_model = HdpModel(bow_corpus, dictionary, alpha=1, gamma=1)\n",
    "\n",
    "###\n",
    "\n",
    "# print the word-topic distributions for \n",
    "for idx, topic in hdp_model.print_topics(20):\n",
    "    print(\"Topic: {} \\nWords: {}\".format(idx, topic ))\n",
    "    print(\"\\n\")\n",
    "    \n",
    "plot_global_topic_weights(hdp_model2)\n",
    "    "
   ]
  },
  {
   "cell_type": "code",
   "execution_count": null,
   "metadata": {},
   "outputs": [],
   "source": [
    "plot_newsgroup_topic_matrix(hdp_model2, 20)"
   ]
  },
  {
   "cell_type": "code",
   "execution_count": null,
   "metadata": {},
   "outputs": [],
   "source": []
  }
 ],
 "metadata": {
  "kernelspec": {
   "display_name": "Python 3",
   "language": "python",
   "name": "python3"
  },
  "language_info": {
   "codemirror_mode": {
    "name": "ipython",
    "version": 3
   },
   "file_extension": ".py",
   "mimetype": "text/x-python",
   "name": "python",
   "nbconvert_exporter": "python",
   "pygments_lexer": "ipython3",
   "version": "3.7.6"
  }
 },
 "nbformat": 4,
 "nbformat_minor": 4
}
